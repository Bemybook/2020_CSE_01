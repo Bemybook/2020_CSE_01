{
  "nbformat": 4,
  "nbformat_minor": 0,
  "metadata": {
    "colab": {
      "name": "Untitled19.ipynb",
      "provenance": []
    },
    "kernelspec": {
      "name": "python3",
      "display_name": "Python 3"
    },
    "language_info": {
      "name": "python"
    }
  },
  "cells": [
    {
      "cell_type": "code",
      "metadata": {
        "id": "PghLceQVw00-"
      },
      "source": [
        "from pdfminer.pdfinterp import PDFResourceManager, PDFPageInterpreter\n",
        "from pdfminer.converter import TextConverter\n",
        "from pdfminer.layout import LAParams\n",
        "from pdfminer.pdfpage import PDFPage\n",
        "from io import StringIO\n",
        "\n",
        "def convert_pdf_to_txt(path):\n",
        "    rsrcmgr = PDFResourceManager()\n",
        "    retstr = StringIO()\n",
        "    codec = 'utf-8'\n",
        "    laparams = LAParams()\n",
        "    device = TextConverter(rsrcmgr, retstr, codec=codec, laparams=laparams)\n",
        "    fp = open(path, 'rb')\n",
        "    interpreter = PDFPageInterpreter(rsrcmgr, device)\n",
        "    password = \"\"\n",
        "    maxpages = 0\n",
        "    caching = True\n",
        "    pagenos=set()\n",
        "\n",
        "    for page in PDFPage.get_pages(fp, pagenos, maxpages=maxpages, password=password,caching=caching, check_extractable=True):\n",
        "        interpreter.process_page(page)\n",
        "\n",
        "    text = retstr.getvalue()\n",
        "\n",
        "    fp.close()\n",
        "    device.close()\n",
        "    retstr.close()\n",
        "    return text"
      ],
      "execution_count": 4,
      "outputs": []
    },
    {
      "cell_type": "code",
      "metadata": {
        "colab": {
          "base_uri": "https://localhost:8080/"
        },
        "id": "JQiNqr8IxU_h",
        "outputId": "5216a84b-ccfb-43fe-c04b-a78ee81f1580"
      },
      "source": [
        "!pip install pdfminer.six"
      ],
      "execution_count": 3,
      "outputs": [
        {
          "output_type": "stream",
          "text": [
            "Collecting pdfminer.six\n",
            "\u001b[?25l  Downloading https://files.pythonhosted.org/packages/93/f3/4fec7dabe8802ebec46141345bf714cd1fc7d93cb74ddde917e4b6d97d88/pdfminer.six-20201018-py3-none-any.whl (5.6MB)\n",
            "\u001b[K     |████████████████████████████████| 5.6MB 4.6MB/s \n",
            "\u001b[?25hRequirement already satisfied: sortedcontainers in /usr/local/lib/python3.7/dist-packages (from pdfminer.six) (2.3.0)\n",
            "Requirement already satisfied: chardet; python_version > \"3.0\" in /usr/local/lib/python3.7/dist-packages (from pdfminer.six) (3.0.4)\n",
            "Collecting cryptography\n",
            "\u001b[?25l  Downloading https://files.pythonhosted.org/packages/b2/26/7af637e6a7e87258b963f1731c5982fb31cd507f0d90d91836e446955d02/cryptography-3.4.7-cp36-abi3-manylinux2014_x86_64.whl (3.2MB)\n",
            "\u001b[K     |████████████████████████████████| 3.2MB 56.2MB/s \n",
            "\u001b[?25hRequirement already satisfied: cffi>=1.12 in /usr/local/lib/python3.7/dist-packages (from cryptography->pdfminer.six) (1.14.5)\n",
            "Requirement already satisfied: pycparser in /usr/local/lib/python3.7/dist-packages (from cffi>=1.12->cryptography->pdfminer.six) (2.20)\n",
            "Installing collected packages: cryptography, pdfminer.six\n",
            "Successfully installed cryptography-3.4.7 pdfminer.six-20201018\n"
          ],
          "name": "stdout"
        }
      ]
    },
    {
      "cell_type": "code",
      "metadata": {
        "colab": {
          "base_uri": "https://localhost:8080/"
        },
        "id": "q_XsA1f6xOm_",
        "outputId": "0b561b26-64e1-45cd-f124-6c745e676d35"
      },
      "source": [
        "from google.colab import drive\n",
        "drive.mount('/content/drive')"
      ],
      "execution_count": 5,
      "outputs": [
        {
          "output_type": "stream",
          "text": [
            "Mounted at /content/drive\n"
          ],
          "name": "stdout"
        }
      ]
    },
    {
      "cell_type": "code",
      "metadata": {
        "id": "Vxfte7XzxbfO"
      },
      "source": [
        "path = '/content/drive/My Drive/question ade.pdf'"
      ],
      "execution_count": 14,
      "outputs": []
    },
    {
      "cell_type": "code",
      "metadata": {
        "colab": {
          "base_uri": "https://localhost:8080/",
          "height": 120
        },
        "id": "zuEp6UHDx4G7",
        "outputId": "f6dfde87-e95a-4ce9-e16e-6876a56a5807"
      },
      "source": [
        "convert_pdf_to_txt(path)"
      ],
      "execution_count": 15,
      "outputs": [
        {
          "output_type": "execute_result",
          "data": {
            "application/vnd.google.colaboratory.intrinsic+json": {
              "type": "string"
            },
            "text/plain": [
              "\"Analog and Digital Electronics                                                                   15CS32                             \\n\\n \\n\\n \\n\\n \\n\\n \\n\\nVTU Question Bank \\n\\nModule – 1 \\n\\nField Effect Transistors \\n\\n1. \\nFind  the  values  of  resistors  Rb,  Rc,  Re  and  the  transistor  gain  β,  for  the \\ncircuit.  Ib=40µA, Ic=4mA,  Ve=2V,  Vce=12V,  Vcc=15V.  Assume  that  the  transistor  used \\nin  the  circuit  is  a  silicon transistor.                                                     (10 marks) (July 2016)  \\n2. \\nFind  the  values  of  resistance  RB,  RC,  RE  and  transistor  gain  β,  for  the  circuit \\nshown  in    Fig.  Q1.c  Given  that  IB  =  40  μA,  IC  =  4mA,  VE  =  2V,  VCE  =  12V  and \\nsupply voltage VCC = 15V. Assume the transistor used in circuit is a silicon transistor.         \\n(4 marks) (Dec 2015)  \\n3. \\nDetermine  the  value  of  the  resistors  Re  and  Rc  for  the  circuit  shown  in  figure \\ngiven  that  R1=5K  Ω,  R2=1K  Ω,  β=200,  Vceq=5v  and  Iceq=2mA  for  the  silicon  made \\ntransistor.                                                                                               (8 marks) (Dec 2014) \\n4. \\n4.  Explain  the  working  of  a  N-channel  E-MOSFET  with  neat  diagram.  Explain \\nwith a Diagram output characteristics of the same.                           (10 Marks)(June 2014)  \\n5. \\nExplain the working of a CMOS inverter.                                          (10 Marks) (June 2015)  \\n6. \\nExplain  the  construction  &  working  and  principle  of  operation  of  an  n-channel  JFET.         \\n(10 Marks)(Dec 2015) \\n7. \\n8. \\n9. \\n(8 Marks)  (Dec 2014) \\n \\n \\n\\nExplain the small signal operation of amplifiers.                                (10 Marks)(June 2015) \\nWhat are the differences between JFET & MOSFET.                          (2 Marks)(Dec 2015)  \\nExplain with neat sketches the operation and characteristics of N-channel DE-MOSFET.                \\n\\nModule-2 \\n\\nThe Basic gates \\n\\n1.  What  are  Universal  gates?  Implement  the  basic  gates  using  Universal  gates \\n\\nonly.     \\n\\n \\n\\n \\n\\n \\n\\n \\n\\n(June / July 16)  8 Marks \\n\\n2.  Using Karnaugh Map,simplify the following boolean expression and give the implementation of the \\n\\nsame using      i)NAND gates only(SOP)   ii) NOR gates only (POS )  \\n\\nF(w,x,y,z)=¦m(0,1,2,4,5,12,14)+dc(8,10)                                        (June/ July 16) 8 Marks   \\n\\n3.  Explain Duality Theorem?  \\n4.  Define:  i) Rise time   ii) Fall time  \\n \\n\\n \\n\\n \\n\\n   (June/ July 16) 4 Marks  \\niv) Frequency.  \\n\\niii) Period and   \\n(July 15), (Dec 15)  (8 Marks)  \\n\\n5.  What \\n\\n  \\nis  an  universal  gate?  List  the  Universal  gates  and  prove  their \\n\\n \\n\\n \\n\\n \\n\\nDept. of CSE, SJBIT  \\n \\n\\nPage 1 \\n\\nVTUlive.com1\\x0cAnalog and Digital Electronics                                                                   15CS32                             \\n\\n \\n\\n \\n\\nuniversalities.                                                                           (July 15)   (6 Marks)  \\n6.  Write the verilog code for  given expression. Y=AB+CD    (July 15)   (6Marks)  \\n7.  Using Karnaugh Map,simplify the following boolean expression and give the  \\n\\nimplementation of the same using    \\n   i)NAND  gates  only(SOP)      ii)  NOR \\ngates only (POS ) a.F(w,x,y,z)=¦m(0,1,2,4,5,12,14)+dc(8,10)                   (Dec 14 / \\nJan 15)   10 Marks  \\n\\n8.  .Mention the Universal gates? Implement with respect to the basic gates.  \\n\\n \\n\\n(Dec 14 / Jan 15)   10 Marks                       \\n\\n9.  Define Logic. Explain different types of logic.                   (  July 14)   10 Marks  \\n10. Differentiate between Analog and Digital Signals.  \\n11. Using \\n\\nform \\nthe \\nf(A,B,C,D)=∑M(5,6,7,12,13)+∑d(4,9,14,15).                      (July 15) (5 marks)  \\n\\n            ( July 14) 10 Marks. \\nof \\n\\nreduced \\n\\nK-map \\n\\nSOP \\n\\nfind \\n\\n12. What is hazard? List the types of hazards and explain static_0 and static-1 hazards.                                                   \\n\\n13. Simplify  the  following  using  Mc-Cluskey  method  f=∑M(4,8,10,11,12,15)+d(9,14)                                                                                     \\n\\n(July 15)      (5 Marks) \\n\\n(July 15)      (10 Marks)  \\n\\n \\n\\n14.  Find the prime implicant with the help of Qunie-Mc Clusky Method.  \\n\\nF(W,X,Y,Z) = ∑m(1,3,6,7,8,9,10,12,13,14)   (Dec 14/Jan 15)  )      (10 Marks)  \\n\\n15. Does  circuit  in  below  figure  experience  hazard?  If  so,  verify  the  same  with  timing \\n\\ndiagram       Explain the significance of Demorgan‟s theorem  \\n(Dec 14 / Jan 15) 10 Marks  \\n\\n \\n\\n16. What is a karnaugh map? State the limitations of karnaugh map.         \\n\\n(July 14)    10 Marks    \\n\\n17. Prove that ABC + ABC' + AB'C + A'BC = AB + AC + BC.  \\n\\n (July 14)   10 Marks  \\n\\n18.Implement the following SOP function  F  =  XZ  +  Y‟Z  +  X‟YZ  Compare  TTL  and \\nCMOS families and the integration level of ICs.                         (Dec 15) 10 Marks  \\n\\n      19. Prove that ABC + ABC' + AB'C + A'BC = AB + AC + BC. (Dec 15) 10 Marks  \\n\\n      20 .Find the prime implicant with the help of Qunie-Mc Clusky Method.  \\n\\nF(W,X,Y,Z) = ∑m(1,3,6,7,8,9,10,12,13,14)                               (July 16) 10 Marks  \\n\\n    21. Define impliant. Explain prime and essential prime implicants with example.    (July    \\n16)10 Marks  \\n\\n \\n\\n \\n\\n \\n\\n \\n\\nDept. of CSE, SJBIT  \\n \\n\\nPage 2 \\n\\nVTUlive.com2\\x0cAnalog and Digital Electronics                                                                   15CS32                             \\n\\n \\n\\n \\n\\nModule-3 \\n\\nData-Processing Circuits  \\n\\n1.  Implement  the  following  function  using  a  8:1  multiplexer:  f(a,b,c,)=  ∑M(0,1,3,4).                     \\n\\n(July 15)   (10 Marks)  \\n\\n2.  Realize  the  following  function  using  the  3:8  decoder  F1(A,B,C)=  ∑M(1,2,3,4)  , \\n(July 15)   (6 Marks)  \\n3.  What  is  a  magnitude  comparator?  Explain  with  a  neat  block  diagram  an  n-bit \\n\\nF2(A,B,C)= ∑M(3,5,7).                                             \\n\\n \\n\\n \\n\\nmagnitude comparator             \\n\\n \\n\\n(July 15)   4marks. \\n\\n4.  Implement 4:1 mux using 2:1 mux    \\n\\n(Dec 14 /Jan 15) 10 Marks  \\n\\n5.  What  is  a  Multiplexer.  Design  a  4:1  multiplexer  using  gate.    (Dec  14  /Jan  15)  10 \\n\\nMarks  \\n\\n6.  Explain the 8 word X 4 bit ROM with the help of block diagram.   (July 14) 8 Marks  \\n\\n7.  Explain the Implementation of Full adder using PLA   \\n\\n(July 14) 6 Marks  \\n\\n8.  Differentiate between PROM, PAL, PLA  \\n\\n9.  Explain Schmitt trigger      \\n\\n \\n\\n \\n\\n10.  Explain n bit magnitude comparator      \\n\\n11.  Design 7 segment decoder using PLA    \\n\\n(July 14) 8 Marks  \\n\\n(July 13) 6 Marks  \\n\\n(July 16) 8 Marks. \\n\\n(July 16)  6 Marks  \\n\\n12.  Show  that  using  a  3-to-8  decoder  and  multi  input  OR  gate.  The  following  Boolean \\n\\nexpression can be realized.F1(A,B,C) = Σm(1,2,4,5), F2(A,B,C) = Σm(1,5,7)    (Dec15) \\n\\n \\n\\n \\n\\n \\n\\n10 Marks  \\n\\n13.  Implementation of  F(A,B,C,D)=∑ (m(1,3,5,7,8,10,12,13,14), d(4,6,15)) By using a 16-\\n\\nto-1 multiplexer.      \\n\\n \\n\\n \\n\\n (Dec15) 10 Marks \\n\\n  14. With a neat block  diagram, explain the  working of a Master-Slave Jk flip flop. Also \\nwrite  its     truth table.                                                                    (July 15)  (10 Marks)  \\nii) Hold time iii) Set up time  \\n15. Define: i)Flip flop  \\n                                                                                                     (July 15) (10 Marks)  \\n\\niv)Characteristic equation.   \\n\\n16. Show how SR flip flop can be converted to a JK flip flop.  \\n\\n(Dec 14 /Jan 15) 10 Marks \\n\\n17.Write HDL design of D-Flip flop  \\n\\n(Dec 14 /Jan 15) 10 Marks   \\n\\n18.With the help of a neat diagram explain the working of a  Master Slave JK flip flop   \\n\\n \\n\\n \\n\\n \\n\\n \\n\\n \\n\\n \\n\\n(July 14) 10 Marks  \\n\\n \\n\\n \\n\\n \\n\\n \\n\\n \\n\\n \\n\\n \\n\\n \\n\\n \\n\\n \\n\\n \\n\\n \\n\\n \\n\\n \\n\\n \\n\\n \\n\\n \\n\\n \\n\\n \\n\\n \\n\\n \\n\\nDept. of CSE, SJBIT  \\n \\n\\nPage 3 \\n\\nVTUlive.com3\\x0c \\n\\n \\n\\n \\n\\n \\n\\n \\n\\n \\n\\n \\n\\n \\n\\n \\n\\n \\n\\n  Module-4 \\n\\nFlip-Flops \\n\\nAnalog and Digital Electronics                                                                   15CS32                             \\n\\n \\n\\n19.What  do  you  mean  by  characteristic  equation  of  a  flip-flop?  Derive  characteristic \\n\\nequation for SR flip flop                   \\n\\n  (July 14) 10 Marks  \\n\\n20.Give transition diagram of JK and T  Flip flops.     \\n\\n \\n\\n(July 16) 8 Marks  \\n\\n \\n\\n \\n\\n21. Show how a D flip flop converted into JK flipflop   \\n\\n            (July 16) 6 Marks  \\n\\n22.Design 16 to 1 multiplexer using two  8 to 1 multiplexer and one 2 to 1 multiplexer.   \\n\\n(July 16) 6 Marks.  \\n\\n23.With the help of block diagram, explain the working of a JK Master-Slave flip flop.  \\n\\n \\n\\n \\n\\n \\n\\n \\n\\n \\n\\n  (Dec15) 10 Marks  \\n\\n24.Differentiate between combinational circuit and sequential circuit.  (Dec15) 10 Marks  \\n\\n \\n\\n \\n\\n1.  Draw the logic diagram of a 4-bit serial in serial out shift register using J-K flip flop \\n\\nand explain.                                                                           (July 15)            (8 Marks)  \\n\\n2.  Explain briefly serial adder with a neat sketch.            (July 15)             (8 Marks)  \\n\\n3.  Write a verilog code for switched tail counter.             (July 15)            (4 Marks)  \\n\\n4.  Explain Johnson Counter with neat diagram and timing diagram    \\n\\n \\n\\n \\n\\n \\n\\n \\n\\n \\n\\n \\n\\n \\n\\n (Dec14 / Jan 15) 10 Marks  \\n\\n5.  Write verilog code for Shift Register.  \\n\\n                          (Dec14 / Jan 15) 10 \\n\\nMarks   \\n\\n6.  Give applications of J-K flip-flops.  \\n\\n \\n\\n                                     (July 14) 10 Marks \\n\\n7. Draw the general block diagram of multivibrator.  \\n\\n \\n\\n            (July  14 ) 10 \\n\\nMarks 8.Explain a 4 bit universal shift register in detail and give its timing diagram.  \\n\\n9.  With neat timing diagram, explain the working of a 4-bit SISO register.  \\n\\n \\n\\n \\n\\n \\n\\n \\n\\n \\n\\n \\n\\n \\n\\n \\n\\n    (Dec15) 10 Marks  \\n\\n    (Dec15) 10 Marks  \\n\\nPage 4 \\n\\nDept. of CSE, SJBIT  \\n \\n\\nVTUlive.com4\\x0cAnalog and Digital Electronics                                                                   15CS32                             \\n\\n \\n\\n \\n\\n10.  Design a 3 bit PISO(DFlip flop)         \\n\\n                         (July 16) 6 marks  \\n\\n11.  Design two 4 bit serial adder.    \\n\\n \\n\\n    (July 16) 6marks  \\n\\n12.  Design a 4 bit Johnson counter with sate table.   \\n\\n     (July 16) 8 marks  \\n\\n \\n\\n \\n\\n13.  Briefly explain 3-bit binary ripple up-counter. Also write the truth table and \\n \\n\\n  (July 15) (10 Marks)  \\n\\nwaveform.  \\n\\n \\n\\n \\n\\n \\n\\n \\n\\n \\n\\n14.  Design a modulo-5 up counter (synchronous) using J-K flip flop.  (July 15)  (10 \\n\\n15.  Design Mod 8 Johnson Counter.  \\n\\n \\n\\n(Dec14 / Jan 15) 10 Marks  \\n\\n16.  Difference between Asynchronous and Synchronous Counter. (Dec14 / Jan 15) 10 \\n\\n17.  Draw logic circuit diagram for 3-bit synchronous up-down counter with clear input, \\n\\nstart input and „done‟ output. The counter should produce „done‟ output after \\n\\ncompletion of counter in either direction.     \\n\\n \\n\\n(July 14.) 10 Marks \\n\\n18.  Draw the logic circuits and the excitation tables for the T, JK flip-flops.  ( July 14) 10 \\n\\n19.  Design a 3 bit synchronous counter with the help of D flip flop. (Dec15) 10 Marks  \\n\\n20.  Design Mod 4 ring counter.    \\n\\n \\n\\n \\n\\n    (Dec15) 10 Marks  \\n\\n21.  Design a synchronous mod 6 up counter using JKflip flop.   (July 15 ) 10 Marks.  \\n\\n22.  Explain Digital clock with block Diagram.                                     (July 16)  10 Marks  \\n\\n \\n\\n \\n\\n \\n\\n \\n\\n \\n\\n \\n\\n \\n\\n \\n\\nMarks)  \\n\\nMarks  \\n\\nMarks  \\n\\n \\n\\nModule-4 \\n\\nCounters \\n\\n \\n\\n1.  With neat block diagram compare mealy model of sequential logic system.  \\n\\n2.  Draw the ASM chart for vending machine problem using Mealy mlodel.     \\n\\n3.  For the given state diagram, draw the state reduction diagram.  \\n\\n \\n\\n \\n\\n \\n\\n \\n\\n \\n\\n \\n\\n \\n\\n \\n\\n \\n\\n (Dec14 / Jan 15) 10 Marks  \\n\\n  (July 15)  (8 Marks) \\n\\n (July 15)  (12 Marks)   \\n\\nPage 5 \\n\\nDept. of CSE, SJBIT  \\n \\n\\nVTUlive.com5\\x0cAnalog and Digital Electronics                                                                   15CS32                             \\n\\n \\n\\n \\n\\n \\n\\n4.  Difference between Mealy Model and Moore Model of Synchronous Sequential \\n\\nCircuit.   \\n\\n \\n\\n \\n\\n                                           (Dec14 / Jan 15) 10 Marks  \\n\\n \\n\\n \\n\\n6.  Difference between Mealy Model and Moore Model of Synchronous Sequential \\n \\n\\n (Dec15) 10 Marks  \\n\\nCircuit.   \\n\\n \\n\\n \\n\\n \\n\\n \\n\\n \\n\\n7.  For the given state diagram, draw the state reduction diagram.  \\n\\n \\n\\n \\n\\n \\n\\n \\n\\n \\n\\n \\n\\n \\n\\n \\n\\n (Dec15) 10 Marks  \\n\\n8.  Explain about all the notation of state machine.   \\n\\n        (July 16 ) 10 Marks.  \\n\\n9.  Analyses the following circuit.   \\n\\n                                 (July 16 ) 10 Marks. \\n\\n \\n\\n \\n\\n \\n\\nDept. of CSE, SJBIT  \\n \\n\\nPage 6 \\n\\nVTUlive.com6\\x0cAnalog and Digital Electronics                                                                   15CS32                             \\n\\n \\n\\n \\n\\n \\n \\n\\n \\n\\n10.  Explain the concept of “Successive approximation‟” of a A/D converter.   \\n\\n(July 15)  (10 Marks)  \\n\\n11.  Draw  a  binary  ladder  network  for  a  digital  input  1000  and  obtain  its  equivalent \\n(July 15) (10 Marks)  \\n\\ncircuit.    \\n\\n \\n\\n \\n\\n \\n\\n \\n\\n \\n\\n \\n\\n \\n\\n12.  Comment on the parameters which serve to describe the quality of performance of a \\n\\nD/A converter.                                       \\n\\n  (Dec14 / Jan 15) 10 Marks \\n\\n13.  With the help of a neat diagram explain parallel A/D converter. \\n\\n \\n\\n \\n\\n \\n\\n \\n\\n \\n\\n \\n\\n \\n\\n(Dec14 / Jan 15) 10 Marks  \\n\\n14.  Explain the operation of successive approximation type of ADC   (July 14) 10 Marks \\n\\n15.  An  8-bit successive approximation  converter  (SAC) has  a resolution of 15 mV What \\n\\nwill its, digital output be for an analog input of 2.65 V?                             (July 14 ) 10 \\n\\n \\n\\n \\n\\n \\n\\n \\n\\nMarks  \\n\\n10 Marks \\n\\n16.  Give performance parameters of DAC or D/A converters.     (Dec15) 10 Marks  \\n\\n17. Explain with logic diagram 3 bit simultaneous A/D converters.        (July 16)/(Dec15) \\n\\n18.Explain with logic diagram Single-slope A/D converters               ( July 16) 10 Marks \\n\\nDept. of CSE, SJBIT  \\n \\n\\nPage 7 \\n\\nVTUlive.com7\\x0c\""
            ]
          },
          "metadata": {
            "tags": []
          },
          "execution_count": 15
        }
      ]
    },
    {
      "cell_type": "code",
      "metadata": {
        "id": "HTE2jhjZx782"
      },
      "source": [
        ""
      ],
      "execution_count": null,
      "outputs": []
    }
  ]
}